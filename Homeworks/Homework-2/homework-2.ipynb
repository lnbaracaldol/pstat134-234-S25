{
 "cells": [
  {
   "cell_type": "markdown",
   "id": "8ca6ea35-af0d-4805-9e3f-99b862802b1a",
   "metadata": {},
   "source": [
    "## Homework 2\n",
    "\n",
    "### Due: 2025-05-21\n",
    "### Image Classification\n",
    "\n",
    "Now we'll work with the data set `Animals`. This dataset, intended for animal image classification, [comes from Kaggle.](https://www.kaggle.com/datasets/borhanitrash/animal-image-classification-dataset) It consists of 3000 JPEG RGB images, each of which are 256 x 256 pixels, that have been divided into three classes with 1000 images in each class. The classes are `cats`, `dogs`, and `snakes`. Use the following code to download the dataset and extract it into a folder called `Animals` in your current working directory.\n",
    "\n",
    "\n",
    "\n"
   ]
  },
  {
   "cell_type": "code",
   "execution_count": 2,
   "id": "0d212372",
   "metadata": {},
   "outputs": [
    {
     "name": "stdout",
     "output_type": "stream",
     "text": [
      "Downloading from https://www.kaggle.com/api/v1/datasets/download/borhanitrash/animal-image-classification-dataset?dataset_version_number=1...\n"
     ]
    },
    {
     "name": "stderr",
     "output_type": "stream",
     "text": [
      "100%|██████████| 38.4M/38.4M [00:03<00:00, 12.3MB/s]"
     ]
    },
    {
     "name": "stdout",
     "output_type": "stream",
     "text": [
      "Extracting files...\n"
     ]
    },
    {
     "name": "stderr",
     "output_type": "stream",
     "text": [
      "\n"
     ]
    },
    {
     "name": "stdout",
     "output_type": "stream",
     "text": [
      "Path to dataset files: /Users/laurabaracaldo/.cache/kagglehub/datasets/borhanitrash/animal-image-classification-dataset/versions/1\n"
     ]
    }
   ],
   "source": [
    "import kagglehub\n",
    "\n",
    "# Download latest version\n",
    "path = kagglehub.dataset_download(\"borhanitrash/animal-image-classification-dataset\")\n",
    "\n",
    "print(\"Path to dataset files:\", path)"
   ]
  },
  {
   "cell_type": "code",
   "execution_count": null,
   "id": "10dc519e",
   "metadata": {},
   "outputs": [],
   "source": [
    "\n",
    "1. Randomly select 150 images of cats, 150 images of dogs, and 150 images of snakes. Set these aside in another directory labeled `test_images` to be your testing set. Using the same approach, randomly select another 150 images from each class, and set these aside in a `validation_images` directory to be your validation set.\n",
    "\n",
    "2. Display a random image from each of the three classes in your training set to verify that the data are set up correctly.\n",
    "\n",
    "3. Rescale your training, testing, and validation sets. Load and preprocess your images in batches of size 10. (You can `ImageDataGenerator` + `flow_from_directory` if using tensorflow and keras; or  torchvision.transforms and datasets.ImageFolder + DataLoader if using PyTorch.)\n",
    "\n",
    "4. Set up a convolutional neural net (CNN) with 7 layers using `Sequential()`. The layers should be as follows:\n",
    "\n",
    "- 2D convolutional input layer with a ReLU activation function;\n",
    "- Max pooling layer for 2D spatial data;\n",
    "- 2D convolutional layer with ReLU activation;\n",
    "- Max pooling layer for 2D spatial data;\n",
    "- Flattening layer;\n",
    "- Dense layer with 128 units and ReLU activation;\n",
    "- Dense output layer with softmax activation.\n",
    "\n",
    "5. Compile your model using the Adam optimizer and categorical cross-entropy loss function.\n",
    "6. Fit your model to the training set for $12$ epochs.\n",
    "7. Create a plot of the accuracy and loss by the number of epochs.\n",
    "8. Look at your model's accuracy on your testing set.\n",
    "9. Generate your model's prediction for a random image from the dataset.\n",
    "10. Create a confusion matrix using your testing set. Visualize the matrix as a heat map. Which classes was your model best at predicting? Which was it worst at predicting? How do you know?\n",
    "\n",
    "\n",
    "## ONLY PSTAT 234 students\n",
    "1. Use transfer learning to improve your model. Use the `VGG16` model from Keras. You can use the `include_top=False` argument to exclude the top layer of the model. You will need to add a new top layer with a softmax activation function for your three classes. You can use the same architecture as above, but you will need to change the input shape to match the VGG16 model. You can also use the `pretrained_weights='imagenet'` argument to use the weights from the ImageNet dataset."
   ]
  }
 ],
 "metadata": {
  "kernelspec": {
   "display_name": "pstat134-234",
   "language": "python",
   "name": "python3"
  },
  "language_info": {
   "codemirror_mode": {
    "name": "ipython",
    "version": 3
   },
   "file_extension": ".py",
   "mimetype": "text/x-python",
   "name": "python",
   "nbconvert_exporter": "python",
   "pygments_lexer": "ipython3",
   "version": "3.12.9"
  }
 },
 "nbformat": 4,
 "nbformat_minor": 5
}
